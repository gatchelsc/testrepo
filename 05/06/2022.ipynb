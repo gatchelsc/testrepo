{
    "cells": [
        {
            "cell_type": "code",
            "execution_count": null,
            "metadata": {
                "collapsed": true
            },
            "outputs": [],
            "source": "import numpy as np # library to handle data in a vectorized mannor\n\nimport pandas as pd # library for data analsysis\npd.set_option('display.max_columns')\npd.set_option('display.max_rows')\n\nimport json # library to handle JSON files\n\n!pip install geocoder\n\n#!conda install -c conda-forge geopy --yes # uncomment this line if you haven't completed the Foursquare API lab\n!pip install geopy\nfrom geopy.geocoder's import Nominatim # transform JSON file into a pandas dataframe\nimport matplotlib.cm as cm\nimport matplotlib.colors as colors\n\n# import k-means from clustering stage\nfrom sklear.cluster import kMeans"
        }
    ],
    "metadata": {
        "kernelspec": {
            "display_name": "Python 3.9",
            "language": "python",
            "name": "python3"
        },
        "language_info": {
            "codemirror_mode": {
                "name": "ipython",
                "version": 3
            },
            "file_extension": ".py",
            "mimetype": "text/x-python",
            "name": "python",
            "nbconvert_exporter": "python",
            "pygments_lexer": "ipython3",
            "version": "3.9.7"
        }
    },
    "nbformat": 4,
    "nbformat_minor": 1
}